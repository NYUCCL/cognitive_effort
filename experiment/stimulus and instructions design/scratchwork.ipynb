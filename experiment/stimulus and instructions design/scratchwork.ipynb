{
 "cells": [
  {
   "cell_type": "code",
   "execution_count": 41,
   "metadata": {},
   "outputs": [
    {
     "name": "stdout",
     "output_type": "stream",
     "text": [
      "[[2, 3, 0, 1], [1, 0, 3, 2], [1, 2, 3, 0], [1, 2, 3, 0], [0, 2, 1, 3], [0, 3, 2, 1], [2, 0, 3, 1], [2, 3, 1, 0], [3, 1, 2, 0], [1, 2, 0, 3]]\n",
      "[[16, 3, 25, 24], [33, 15, 1, 4], [34, 4, 25, 1], [36, 6, 43, 17], [8, 19, 16, 32], [7, 1, 26, 47], [41, 21, 32, 28], [1, 41, 6, 30], [37, 16, 44, 43], [32, 18, 26, 42]]\n"
     ]
    }
   ],
   "source": [
    "import random\n",
    "\n",
    "random.seed(30)\n",
    "\n",
    "n_conditions = 4\n",
    "n_counterbalances = 48\n",
    "\n",
    "n_sequences = 10 # how many different orderings of the conditions and counterbalancing to create \n",
    "\n",
    "conds = [0]*n_sequences\n",
    "cbs= [0]*n_sequences\n",
    "\n",
    "for i in range(n_sequences):\n",
    "    conds[i] = random.sample(range(n_conditions),n_conditions)\n",
    "    cbs[i] = random.sample(range(n_counterbalances),n_conditions)\n",
    "    \n",
    "print(conds)\n",
    "print(cbs)"
   ]
  },
  {
   "cell_type": "code",
   "execution_count": 17,
   "metadata": {},
   "outputs": [
    {
     "data": {
      "text/plain": [
       "[3, 2, 0, 1]"
      ]
     },
     "execution_count": 17,
     "metadata": {},
     "output_type": "execute_result"
    }
   ],
   "source": [
    "a = [0,1,2,3]\n",
    "random.sample(a,len(a))"
   ]
  },
  {
   "cell_type": "code",
   "execution_count": null,
   "metadata": {},
   "outputs": [],
   "source": []
  }
 ],
 "metadata": {
  "kernelspec": {
   "display_name": "Python 3",
   "language": "python",
   "name": "python3"
  },
  "language_info": {
   "codemirror_mode": {
    "name": "ipython",
    "version": 3
   },
   "file_extension": ".py",
   "mimetype": "text/x-python",
   "name": "python",
   "nbconvert_exporter": "python",
   "pygments_lexer": "ipython3",
   "version": "3.7.6"
  }
 },
 "nbformat": 4,
 "nbformat_minor": 4
}
